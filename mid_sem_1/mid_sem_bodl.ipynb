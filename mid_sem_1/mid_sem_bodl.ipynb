{
  "nbformat": 4,
  "nbformat_minor": 0,
  "metadata": {
    "colab": {
      "provenance": [],
      "collapsed_sections": [
        "XDDbguyGU8Fs",
        "JLkWLC8f3HZI",
        "WiRxNFCn3Vxd",
        "QReFpU112hLT",
        "D5MsCpUv2tuj",
        "GPBGGKtSoVpU",
        "LZfq8otp-wXY",
        "i6K01j7A_Z4W",
        "cn5UPcIQH2jS",
        "gg7D7fwGH9Yv",
        "Q81OW5M7oCWZ",
        "TdgCk97534-B",
        "5HV5g7j92Xfn",
        "raBFclM5ploH",
        "7FtZr0EQBlcm"
      ]
    },
    "kernelspec": {
      "name": "python3",
      "display_name": "Python 3"
    },
    "language_info": {
      "name": "python"
    },
    "accelerator": "GPU",
    "gpuClass": "standard"
  },
  "cells": [
    {
      "cell_type": "markdown",
      "source": [
        "# Mid-semester assignment Part 1 - Basics of deep learning\n",
        "Hello dear students,<br> this is the template notebook. Please upload it into your drive and open as Google Colab nootebook\".\n",
        "\n",
        "---\n",
        "<br>\n",
        "\n",
        "### Name and ID:\n",
        "Student 1: shahar itzhaki 211492277\n",
        "\n",
        "Student 2: roi tzadok 212136618"
      ],
      "metadata": {
        "collapsed": false,
        "pycharm": {
          "name": "#%% md\n"
        },
        "id": "XDDbguyGU8Fs"
      }
    },
    {
      "cell_type": "markdown",
      "source": [
        "## Fashion MNIST\n",
        "Fashion MNIST dataset contains 70,000 grayscale images in 10 categories. The images show individual articles of clothing at low resolution (28 by 28 pixels), as seen here:\n",
        "\n",
        "<table>\n",
        "  <tr><td>\n",
        "    <img src=\"https://tensorflow.org/images/fashion-mnist-sprite.png\"\n",
        "         alt=\"Fashion MNIST sprite\"  width=\"600\">\n",
        "  </td></tr>\n",
        "  \n",
        "</table>\n",
        "\n"
      ],
      "metadata": {
        "id": "JLkWLC8f3HZI"
      }
    },
    {
      "cell_type": "markdown",
      "source": [
        "Loading the dataset returns four NumPy arrays:\n",
        "\n",
        "* The `train_images` and `train_labels` arrays are the *training set*—the data the model uses to learn.\n",
        "* The model is tested against the *test set*, the `test_images`, and `test_labels` arrays.\n",
        "\n",
        "The images are 28x28 NumPy arrays, with pixel values ranging between 0 and 255. The *labels* are an array of integers, ranging from 0 to 9. These correspond to the *class* of clothing the image represents:\n",
        "\n",
        "<table>\n",
        "  <tr>\n",
        "    <th>Label</th>\n",
        "    <th>Class</th>\n",
        "  </tr>\n",
        "  <tr>\n",
        "    <td>0</td>\n",
        "    <td>T-shirt/top</td>\n",
        "  </tr>\n",
        "  <tr>\n",
        "    <td>1</td>\n",
        "    <td>Trouser</td>\n",
        "  </tr>\n",
        "    <tr>\n",
        "    <td>2</td>\n",
        "    <td>Pullover</td>\n",
        "  </tr>\n",
        "    <tr>\n",
        "    <td>3</td>\n",
        "    <td>Dress</td>\n",
        "  </tr>\n",
        "    <tr>\n",
        "    <td>4</td>\n",
        "    <td>Coat</td>\n",
        "  </tr>\n",
        "    <tr>\n",
        "    <td>5</td>\n",
        "    <td>Sandal</td>\n",
        "  </tr>\n",
        "    <tr>\n",
        "    <td>6</td>\n",
        "    <td>Shirt</td>\n",
        "  </tr>\n",
        "    <tr>\n",
        "    <td>7</td>\n",
        "    <td>Sneaker</td>\n",
        "  </tr>\n",
        "    <tr>\n",
        "    <td>8</td>\n",
        "    <td>Bag</td>\n",
        "  </tr>\n",
        "    <tr>\n",
        "    <td>9</td>\n",
        "    <td>Ankle boot</td>\n",
        "  </tr>\n",
        "</table>\n",
        "\n",
        "<br>\n",
        "\n",
        "# Goodluck!"
      ],
      "metadata": {
        "id": "WiRxNFCn3Vxd"
      }
    },
    {
      "cell_type": "markdown",
      "source": [
        "#Neural Network in plain NumPy"
      ],
      "metadata": {
        "collapsed": false,
        "id": "4K84YZ_QU8Fv"
      }
    },
    {
      "cell_type": "markdown",
      "source": [
        "## Import Libraries"
      ],
      "metadata": {
        "id": "QReFpU112hLT"
      }
    },
    {
      "cell_type": "code",
      "source": [
        "import numpy as np\n",
        "import matplotlib\n",
        "import matplotlib.pyplot as plt\n",
        "from sklearn.datasets import fetch_openml\n",
        "from sklearn.metrics import classification_report, confusion_matrix"
      ],
      "metadata": {
        "pycharm": {
          "name": "#%%\n"
        },
        "id": "tLOHjUiFU8Fv"
      },
      "execution_count": 1,
      "outputs": []
    },
    {
      "cell_type": "markdown",
      "source": [
        "## Load Dataset"
      ],
      "metadata": {
        "id": "D5MsCpUv2tuj"
      }
    },
    {
      "cell_type": "code",
      "source": [
        "X, y = fetch_openml('Fashion-MNIST', version=1, return_X_y=True, as_frame=False)\n",
        "print(X.shape, y.shape)"
      ],
      "metadata": {
        "id": "nbzv9ZYA2pyW",
        "colab": {
          "base_uri": "https://localhost:8080/"
        },
        "outputId": "f01ba1b1-881a-451e-a509-6f1a07c1b1b8"
      },
      "execution_count": 2,
      "outputs": [
        {
          "output_type": "stream",
          "name": "stdout",
          "text": [
            "(70000, 784) (70000,)\n"
          ]
        }
      ]
    },
    {
      "cell_type": "markdown",
      "metadata": {
        "id": "GPBGGKtSoVpU"
      },
      "source": [
        "## Data preprocessing (10%)"
      ]
    },
    {
      "cell_type": "markdown",
      "metadata": {
        "id": "LZfq8otp-wXY"
      },
      "source": [
        "### Feature scaling"
      ]
    },
    {
      "cell_type": "code",
      "metadata": {
        "id": "7MZtZIzzDIKe",
        "colab": {
          "base_uri": "https://localhost:8080/"
        },
        "outputId": "59e0765d-9d7b-4706-8ecc-2533f9ce49b2"
      },
      "source": [
        "examples = y.shape[0]\n",
        "y1 = y.reshape(1, examples)\n",
        "X1 = X / 255\n",
        "X1 = X1.T\n",
        "print(X1.shape)\n",
        "print(y1.shape)"
      ],
      "execution_count": 3,
      "outputs": [
        {
          "output_type": "stream",
          "name": "stdout",
          "text": [
            "(784, 70000)\n",
            "(1, 70000)\n"
          ]
        }
      ]
    },
    {
      "cell_type": "markdown",
      "metadata": {
        "id": "i6K01j7A_Z4W"
      },
      "source": [
        "### Select two classes"
      ]
    },
    {
      "cell_type": "code",
      "metadata": {
        "id": "7OuPZ0o8DNWq",
        "colab": {
          "base_uri": "https://localhost:8080/"
        },
        "outputId": "ade635fe-fc91-4458-d395-994fe807e9e2"
      },
      "source": [
        "#TODO: select two classes (for example 2-Pullover and 4-Coat)\n",
        "# 1\tTrouser\n",
        "# 8\tBag\n",
        "label_codes = {'trouser' : 1,'bag' : 8}\n",
        "trousers = []\n",
        "bags = []\n",
        "for i, label in enumerate(y):\n",
        "  if int(label) == label_codes['trouser']:\n",
        "    trousers.append(X1[:,i])\n",
        "  elif int(label) == label_codes['bag']:\n",
        "    bags.append(X1[:,i])\n",
        "\n",
        "\n",
        "print(len(bags))\n",
        "print(len(trousers))"
      ],
      "execution_count": 4,
      "outputs": [
        {
          "output_type": "stream",
          "name": "stdout",
          "text": [
            "7000\n",
            "7000\n"
          ]
        }
      ]
    },
    {
      "cell_type": "markdown",
      "metadata": {
        "id": "cn5UPcIQH2jS"
      },
      "source": [
        "### Split the data into Train set and Test set"
      ]
    },
    {
      "cell_type": "code",
      "metadata": {
        "id": "FBUI2DZmhd0y",
        "colab": {
          "base_uri": "https://localhost:8080/"
        },
        "outputId": "4d3fabec-29be-4153-cea4-1dd2b24b4128"
      },
      "source": [
        "# TODO: Split the data into Train set and Test set (The use of libraries other than Numpy is strictly prohibited)\n",
        "from sklearn.utils import shuffle\n",
        "\n",
        "X = np.array(bags + trousers)\n",
        "Y = np.concatenate((np.array(len(bags) * [0]) , np.array(len(trousers) * [1])), axis=None)\n",
        "\n",
        "# Use shuffle on the train data\n",
        "X, y = shuffle(X, Y)\n",
        "\n",
        "X_train, X_test = X[:12000].T, X[12000:].T\n",
        "Y_train, Y_test = y[:12000].reshape(1,-1).T, y[12000:].reshape(1,-1).T\n",
        "print(len(X_train), len(X_test))\n",
        "print(len(Y_train), len(Y_test))"
      ],
      "execution_count": 5,
      "outputs": [
        {
          "output_type": "stream",
          "name": "stdout",
          "text": [
            "784 784\n",
            "12000 2000\n"
          ]
        }
      ]
    },
    {
      "cell_type": "markdown",
      "metadata": {
        "id": "gg7D7fwGH9Yv"
      },
      "source": [
        "### Test yourself"
      ]
    },
    {
      "cell_type": "code",
      "metadata": {
        "id": "wkLl0PSyDR9S",
        "colab": {
          "base_uri": "https://localhost:8080/",
          "height": 265
        },
        "outputId": "de5ac16d-71a7-48c0-965d-687ffc701b65"
      },
      "source": [
        "# Test yourself (Check that the classes you have selected are actually displayed)\n",
        "%matplotlib inline\n",
        "from numpy import random\n",
        "\n",
        "i = random.randint(100)\n",
        "plt.imshow(X_train[:,i].reshape(28,28), cmap = matplotlib.cm.binary)\n",
        "plt.axis(\"off\")\n",
        "plt.show()\n",
        "Y_train[i,0]"
      ],
      "execution_count": 6,
      "outputs": [
        {
          "output_type": "display_data",
          "data": {
            "text/plain": [
              "<Figure size 432x288 with 1 Axes>"
            ],
            "image/png": "[encoded data removed]"
          },
          "metadata": {
            "needs_background": "light"
          }
        },
        {
          "output_type": "execute_result",
          "data": {
            "text/plain": [
              "1"
            ]
          },
          "metadata": {},
          "execution_count": 6
        }
      ]
    },
    {
      "cell_type": "markdown",
      "metadata": {
        "id": "Q81OW5M7oCWZ"
      },
      "source": [
        "## Activation functions (10%)"
      ]
    },
    {
      "cell_type": "code",
      "metadata": {
        "id": "nxruxXBsDmP-"
      },
      "source": [
        "#TODO: Sigmoid activation function\n",
        "def sigmoid(z):\n",
        "    return 1/(1 + np.exp(-z))"
      ],
      "execution_count": 7,
      "outputs": []
    },
    {
      "cell_type": "markdown",
      "metadata": {
        "id": "OBIAUcVboOG9"
      },
      "source": [
        "## Loss function (20%)\n",
        "BCE Loss function captures the intuition that the neural network should pay a high penalty(Loss→∞) when the estimated probability, with respect to the training example’s label, is completely wrong. On the other hand, the Loss should equal zero(Loss=0) when the estimated probability, with respect to the training example’s label, is correct. Simply put, the BCE Loss should equal zero in only two instances:<br>\n",
        "* if the example is positively labeled(y=1) the neural network model should be completely sure that the example belongs to the positive class i.e p̂=1.\n",
        "* if the example is negatively labeled(y=0) the neural network model should be completely sure that the example does not belong to the positive class i.e p̂=0.\n",
        "\n",
        "<b> When we work with a computer, there are very high values or very low values that it cannot handle and that could cause the system to crash. <br>In order to overcome the case where the function returns values that strive for infinity you will need to understand which range of values causes the logarithm to return inf \\ -inf and handle this within the function. </b>"
      ]
    },
    {
      "cell_type": "code",
      "metadata": {
        "id": "U0i2o9_KDUdQ"
      },
      "source": [
        "#TODO: Binary cross entropy\n",
        "def log_loss(y_hat, y):\n",
        "    '''\n",
        "    Logistic loss, assuming a single value in y_hat and y.\n",
        "    '''\n",
        "    # avoid numbers that are either too big or too small (to prevent inf result)\n",
        "    min_value, max_value = 1e-7, 1 - 1e-7\n",
        "    y_hat = np.clip(y_hat, min_value, max_value)\n",
        "    return -(y * np.log(y_hat + min_value) + (1-y) * np.log(1-y_hat + 1e-7))"
      ],
      "execution_count": 8,
      "outputs": []
    },
    {
      "cell_type": "markdown",
      "metadata": {
        "id": "WY9DQPrJmvHZ"
      },
      "source": [
        "## NN Hyper Parameters"
      ]
    },
    {
      "cell_type": "code",
      "metadata": {
        "id": "qGCU_QYRnJap"
      },
      "source": [
        "input_layer = X_train.shape[0] # 28X28 = 784\n",
        "hidden_layer = 10\n",
        "learning_rate = 0.3\n",
        "epochs = 100"
      ],
      "execution_count": 9,
      "outputs": []
    },
    {
      "cell_type": "markdown",
      "metadata": {
        "id": "M6SdHpc2m3vV"
      },
      "source": [
        "## Weight and Bias Initialization"
      ]
    },
    {
      "cell_type": "code",
      "metadata": {
        "id": "IVRoMGxTnLZI",
        "colab": {
          "base_uri": "https://localhost:8080/"
        },
        "outputId": "c88ecbee-1e8b-4283-fd0a-f488e92ab940"
      },
      "source": [
        "W1 = np.random.randn(hidden_layer, input_layer)\n",
        "b1 = np.zeros((hidden_layer, 1))\n",
        "W2 = np.random.randn(1, hidden_layer)\n",
        "b2 = np.zeros((1, 1))\n",
        "\n",
        "print(W1.shape)\n",
        "print(b1.shape)\n",
        "print(W2.shape)\n",
        "print(b2.shape)"
      ],
      "execution_count": 10,
      "outputs": [
        {
          "output_type": "stream",
          "name": "stdout",
          "text": [
            "(10, 784)\n",
            "(10, 1)\n",
            "(1, 10)\n",
            "(1, 1)\n"
          ]
        }
      ]
    },
    {
      "cell_type": "markdown",
      "metadata": {
        "id": "fp-IaWECn6Hu"
      },
      "source": [
        "## Training (30%)"
      ]
    },
    {
      "cell_type": "code",
      "metadata": {
        "id": "4tdlcCGLDo7F",
        "colab": {
          "base_uri": "https://localhost:8080/"
        },
        "outputId": "53fc6987-955b-4f8c-d3c4-9d014f5a4f7a"
      },
      "source": [
        "X = X_train\n",
        "Y = Y_train\n",
        "loss_list = []\n",
        "epoch_list = []\n",
        "numOfTraining = 12000 # Write the number of examples in your train set\n",
        "\n",
        "for i in range(epochs):\n",
        "  avg_epoch_loss = 0\n",
        "  for j in range(numOfTraining):\n",
        "    # TODO :  Forward propagation\n",
        "    \n",
        "    Z1 = np.matmul(W1,X[:,j]) + b1.T # DO NOT FORGET TO ADD THE BIAS\n",
        "    A1 = sigmoid(Z1)\n",
        "    Z2 = np.matmul(W2,A1.T) + b2\n",
        "    A2 = sigmoid(Z2)[0][0] \n",
        "    Yout = Y[j][0]\n",
        "\n",
        "    # TODO: Compute loss\n",
        "    loss = log_loss( A2, Yout)\n",
        "    avg_epoch_loss = avg_epoch_loss + loss\n",
        "    # m = Y.shape[1]\n",
        "\n",
        "    # # TODO: Back propagation\n",
        "    dZ2 = A2-Yout\n",
        "    dW2 = dZ2 * A1 \n",
        "    db2 = dZ2 \n",
        "   \n",
        "    dA1 = dZ2 * W2 \n",
        "    dZ1 = dA1 * (A1 * (1 - A1))\n",
        "\n",
        "    dW1 = np.matmul(dZ1.T, (X[:,j][...,np.newaxis]).T)\n",
        "    db1 = (dZ1 * 1).T\n",
        "\n",
        "    # TODO: Update weights\n",
        "    W2 = W2 - learning_rate * dW2\n",
        "    b2 = b2 - learning_rate * db2\n",
        "    W1 = W1 - learning_rate * dW1\n",
        "    b1 = b1 - learning_rate * db1\n",
        "\n",
        "  avg_epoch_loss = avg_epoch_loss/numOfTraining\n",
        "  loss_list.append(avg_epoch_loss)\n",
        "  epoch_list.append(i)\n",
        "  print(\"Epoch\", i,\" Loss:\", avg_epoch_loss)"
      ],
      "execution_count": 11,
      "outputs": [
        {
          "output_type": "stream",
          "name": "stdout",
          "text": [
            "Epoch 0  Loss: 0.07050448993742557\n",
            "Epoch 1  Loss: 0.03713607576016006\n",
            "Epoch 2  Loss: 0.03309508733828962\n",
            "Epoch 3  Loss: 0.03092465382320434\n",
            "Epoch 4  Loss: 0.033605057148619645\n",
            "Epoch 5  Loss: 0.029059543766927008\n",
            "Epoch 6  Loss: 0.02639174205608661\n",
            "Epoch 7  Loss: 0.026572515391354155\n",
            "Epoch 8  Loss: 0.03270782177583624\n",
            "Epoch 9  Loss: 0.03498616838244049\n",
            "Epoch 10  Loss: 0.025705003260289055\n",
            "Epoch 11  Loss: 0.02404813750831588\n",
            "Epoch 12  Loss: 0.021241330059322095\n",
            "Epoch 13  Loss: 0.02317398206449837\n",
            "Epoch 14  Loss: 0.021781187145138874\n",
            "Epoch 15  Loss: 0.023466032083194477\n",
            "Epoch 16  Loss: 0.02294818309394473\n",
            "Epoch 17  Loss: 0.02467334578036731\n",
            "Epoch 18  Loss: 0.023098464121530427\n",
            "Epoch 19  Loss: 0.02434575371189102\n",
            "Epoch 20  Loss: 0.02115123810745925\n",
            "Epoch 21  Loss: 0.019281702894853765\n",
            "Epoch 22  Loss: 0.018782267309896565\n",
            "Epoch 23  Loss: 0.017765288243404967\n",
            "Epoch 24  Loss: 0.02057877742895911\n",
            "Epoch 25  Loss: 0.015715379771457344\n",
            "Epoch 26  Loss: 0.017846910410729222\n",
            "Epoch 27  Loss: 0.016390949154193094\n",
            "Epoch 28  Loss: 0.015120575054349555\n",
            "Epoch 29  Loss: 0.013274674076457363\n",
            "Epoch 30  Loss: 0.015166261565259829\n",
            "Epoch 31  Loss: 0.018925139450550226\n",
            "Epoch 32  Loss: 0.018580148786701854\n",
            "Epoch 33  Loss: 0.014669591385215794\n",
            "Epoch 34  Loss: 0.017618255460521984\n",
            "Epoch 35  Loss: 0.015631097326608653\n",
            "Epoch 36  Loss: 0.013159394105870565\n",
            "Epoch 37  Loss: 0.018023297163770775\n",
            "Epoch 38  Loss: 0.01544818439141859\n",
            "Epoch 39  Loss: 0.01376927323877918\n",
            "Epoch 40  Loss: 0.014144881070290504\n",
            "Epoch 41  Loss: 0.01187157698873394\n",
            "Epoch 42  Loss: 0.011132468782410988\n",
            "Epoch 43  Loss: 0.011294318870746587\n",
            "Epoch 44  Loss: 0.010539650017340457\n",
            "Epoch 45  Loss: 0.010363842895426023\n",
            "Epoch 46  Loss: 0.01041750128078963\n",
            "Epoch 47  Loss: 0.011515126129812486\n",
            "Epoch 48  Loss: 0.012015718086506855\n",
            "Epoch 49  Loss: 0.020409152231788054\n",
            "Epoch 50  Loss: 0.02515371785695286\n",
            "Epoch 51  Loss: 0.024777190672556387\n",
            "Epoch 52  Loss: 0.03305832654176555\n",
            "Epoch 53  Loss: 0.031611335156632704\n",
            "Epoch 54  Loss: 0.02532066982340314\n",
            "Epoch 55  Loss: 0.024234995334533094\n",
            "Epoch 56  Loss: 0.018801052429631846\n",
            "Epoch 57  Loss: 0.017096480704618514\n",
            "Epoch 58  Loss: 0.019728503660181154\n",
            "Epoch 59  Loss: 0.01597312049204287\n",
            "Epoch 60  Loss: 0.011581557083259513\n",
            "Epoch 61  Loss: 0.010779087892213296\n",
            "Epoch 62  Loss: 0.010478068461936461\n",
            "Epoch 63  Loss: 0.014435144272406162\n",
            "Epoch 64  Loss: 0.010075886507028467\n",
            "Epoch 65  Loss: 0.008464425681937792\n",
            "Epoch 66  Loss: 0.008661451486315015\n",
            "Epoch 67  Loss: 0.009419730010779257\n",
            "Epoch 68  Loss: 0.010375552414951476\n",
            "Epoch 69  Loss: 0.009402916713723156\n",
            "Epoch 70  Loss: 0.010299274225385433\n",
            "Epoch 71  Loss: 0.013993365878931522\n",
            "Epoch 72  Loss: 0.012779190405596604\n",
            "Epoch 73  Loss: 0.009112196471447207\n",
            "Epoch 74  Loss: 0.010721377730691496\n",
            "Epoch 75  Loss: 0.012304378502257528\n",
            "Epoch 76  Loss: 0.012495591725875794\n",
            "Epoch 77  Loss: 0.012171480093863268\n",
            "Epoch 78  Loss: 0.011830984638003882\n",
            "Epoch 79  Loss: 0.01012055781355552\n",
            "Epoch 80  Loss: 0.008826505212774796\n",
            "Epoch 81  Loss: 0.011532809634655498\n",
            "Epoch 82  Loss: 0.012805533724769416\n",
            "Epoch 83  Loss: 0.0077926121398196775\n",
            "Epoch 84  Loss: 0.006001583838760961\n",
            "Epoch 85  Loss: 0.006854689563483557\n",
            "Epoch 86  Loss: 0.0070629832150780275\n",
            "Epoch 87  Loss: 0.006146383917055068\n",
            "Epoch 88  Loss: 0.006119355038676967\n",
            "Epoch 89  Loss: 0.010114826545889528\n",
            "Epoch 90  Loss: 0.015996489380750722\n",
            "Epoch 91  Loss: 0.010714626805788862\n",
            "Epoch 92  Loss: 0.011498126490249703\n",
            "Epoch 93  Loss: 0.009766217772427914\n",
            "Epoch 94  Loss: 0.011037971769786386\n",
            "Epoch 95  Loss: 0.010906208251509035\n",
            "Epoch 96  Loss: 0.01632889701961637\n",
            "Epoch 97  Loss: 0.015271732032984443\n",
            "Epoch 98  Loss: 0.010136304045307873\n",
            "Epoch 99  Loss: 0.01127326400839892\n"
          ]
        }
      ]
    },
    {
      "cell_type": "markdown",
      "metadata": {
        "id": "TdgCk97534-B"
      },
      "source": [
        "### Loss Visualization"
      ]
    },
    {
      "cell_type": "code",
      "metadata": {
        "id": "RFo9NN5Q31X8",
        "colab": {
          "base_uri": "https://localhost:8080/",
          "height": 296
        },
        "outputId": "35c7d687-200b-4373-a3fe-c7f4309fc9fd"
      },
      "source": [
        "import matplotlib.pyplot as plt\n",
        "plt.xlabel('Epoch Number')\n",
        "plt.ylabel(\"Loss\")\n",
        "plt.plot(epoch_list, loss_list)"
      ],
      "execution_count": 12,
      "outputs": [
        {
          "output_type": "execute_result",
          "data": {
            "text/plain": [
              "[<matplotlib.lines.Line2D at 0x7fe0820b66d0>]"
            ]
          },
          "metadata": {},
          "execution_count": 12
        },
        {
          "output_type": "display_data",
          "data": {
            "text/plain": [
              "<Figure size 432x288 with 1 Axes>"
            ],
            "image/png": "[encoded data removed]"
          },
          "metadata": {
            "needs_background": "light"
          }
        }
      ]
    },
    {
      "cell_type": "markdown",
      "source": [
        "## Results"
      ],
      "metadata": {
        "id": "5HV5g7j92Xfn"
      }
    },
    {
      "cell_type": "markdown",
      "metadata": {
        "id": "raBFclM5ploH"
      },
      "source": [
        "### Test your performance (30%)"
      ]
    },
    {
      "cell_type": "code",
      "metadata": {
        "id": "flfh-luxDs7Z",
        "colab": {
          "base_uri": "https://localhost:8080/"
        },
        "outputId": "c40e23af-fafc-4d54-e7a4-67eee9e331b5"
      },
      "source": [
        "#TODO: Forward batch of examples\n",
        "X = X_test\n",
        "Y = Y_test\n",
        "\n",
        "Z1 = np.matmul(W1, X_test) + b1\n",
        "A1 = np.tanh(Z1)\n",
        "Z2 = np.matmul(W2, A1) + b2\n",
        "A2 = sigmoid(Z2)\n",
        "\n",
        "\n",
        "predictions = np.zeros((1,Y.shape[0]))\n",
        "labels = np.zeros((1,Y.shape[0]))\n",
        "\n",
        "# Check your predictions against the test's labels\n",
        "for i in range(Y.shape[0]):\n",
        "  if (A2[0,i] > 0.5): \n",
        "    predictions[0,i] = 1\n",
        "  labels[0,i] = Y[i,0]\n",
        "\n",
        "\n",
        "# Print the confusion matrix In order to test your performance\n",
        "print(confusion_matrix(predictions.T, labels.T))"
      ],
      "execution_count": 13,
      "outputs": [
        {
          "output_type": "stream",
          "name": "stdout",
          "text": [
            "[[1024    1]\n",
            " [   5  970]]\n"
          ]
        }
      ]
    },
    {
      "cell_type": "markdown",
      "source": [
        "### Visualize the results"
      ],
      "metadata": {
        "id": "7FtZr0EQBlcm"
      }
    },
    {
      "cell_type": "code",
      "metadata": {
        "id": "gAj_5W2wVUrI",
        "colab": {
          "base_uri": "https://localhost:8080/",
          "height": 1000
        },
        "outputId": "94fedf4b-4f84-4b00-a24c-e0f1cfbfdbe1"
      },
      "source": [
        "#TODO: SHOW VISUALLY RESULTS ON 10 TEST EXAMPLES\n",
        "%matplotlib inline\n",
        "from numpy import random\n",
        "\n",
        "def show_item(item):\n",
        "  \"\"\"\n",
        "  @param item: index of an item to display\n",
        "  shows a picture and the prediction made for it\n",
        "  \"\"\"\n",
        "  plt.imshow(X_test[:,item].reshape(28,28), cmap = matplotlib.cm.binary)\n",
        "  plt.axis(\"off\")\n",
        "  plt.show()\n",
        "  Y_test[item,0]\n",
        "\n",
        "  Z1 = np.matmul(W1,X_test[:,item]) + b1.T\n",
        "  A1 = sigmoid(Z1)\n",
        "  Z2 = np.matmul(W2,A1.T) + b2\n",
        "  A2 = sigmoid(Z2)[0][0]\n",
        "  Yout = Y[item,0]\n",
        "\n",
        "  print(\"Real=\", Y_test[i,0], \"Predicted=\",A2)\n",
        "\n",
        "# show 10 examples\n",
        "for x in range(10):\n",
        "  i = random.randint(2000)\n",
        "  show_item(i)"
      ],
      "execution_count": 14,
      "outputs": [
        {
          "output_type": "display_data",
          "data": {
            "text/plain": [
              "<Figure size 432x288 with 1 Axes>"
            ],
            "image/png": "[encoded data removed]"
          },
          "metadata": {
            "needs_background": "light"
          }
        },
        {
          "output_type": "stream",
          "name": "stdout",
          "text": [
            "Real= 1 Predicted= 0.9996933544605434\n"
          ]
        },
        {
          "output_type": "display_data",
          "data": {
            "text/plain": [
              "<Figure size 432x288 with 1 Axes>"
            ],
            "image/png": "[encoded data removed]"
          },
          "metadata": {
            "needs_background": "light"
          }
        },
        {
          "output_type": "stream",
          "name": "stdout",
          "text": [
            "Real= 0 Predicted= 0.00042262468443661554\n"
          ]
        },
        {
          "output_type": "display_data",
          "data": {
            "text/plain": [
              "<Figure size 432x288 with 1 Axes>"
            ],
            "image/png": "[encoded data removed]"
          },
          "metadata": {
            "needs_background": "light"
          }
        },
        {
          "output_type": "stream",
          "name": "stdout",
          "text": [
            "Real= 1 Predicted= 0.999693353474323\n"
          ]
        },
        {
          "output_type": "display_data",
          "data": {
            "text/plain": [
              "<Figure size 432x288 with 1 Axes>"
            ],
            "image/png": "[encoded data removed]"
          },
          "metadata": {
            "needs_background": "light"
          }
        },
        {
          "output_type": "stream",
          "name": "stdout",
          "text": [
            "Real= 0 Predicted= 0.00042217562876597684\n"
          ]
        },
        {
          "output_type": "display_data",
          "data": {
            "text/plain": [
              "<Figure size 432x288 with 1 Axes>"
            ],
            "image/png": "[encoded data removed]"
          },
          "metadata": {
            "needs_background": "light"
          }
        },
        {
          "output_type": "stream",
          "name": "stdout",
          "text": [
            "Real= 1 Predicted= 0.9996933534747859\n"
          ]
        },
        {
          "output_type": "display_data",
          "data": {
            "text/plain": [
              "<Figure size 432x288 with 1 Axes>"
            ],
            "image/png": "[encoded data removed]"
          },
          "metadata": {
            "needs_background": "light"
          }
        },
        {
          "output_type": "stream",
          "name": "stdout",
          "text": [
            "Real= 1 Predicted= 0.9996933541113361\n"
          ]
        },
        {
          "output_type": "display_data",
          "data": {
            "text/plain": [
              "<Figure size 432x288 with 1 Axes>"
            ],
            "image/png": "[encoded data removed]"
          },
          "metadata": {
            "needs_background": "light"
          }
        },
        {
          "output_type": "stream",
          "name": "stdout",
          "text": [
            "Real= 0 Predicted= 0.0004226246573175671\n"
          ]
        },
        {
          "output_type": "display_data",
          "data": {
            "text/plain": [
              "<Figure size 432x288 with 1 Axes>"
            ],
            "image/png": "[encoded data removed]"
          },
          "metadata": {
            "needs_background": "light"
          }
        },
        {
          "output_type": "stream",
          "name": "stdout",
          "text": [
            "Real= 0 Predicted= 0.0004226246844366061\n"
          ]
        },
        {
          "output_type": "display_data",
          "data": {
            "text/plain": [
              "<Figure size 432x288 with 1 Axes>"
            ],
            "image/png": "[encoded data removed]"
          },
          "metadata": {
            "needs_background": "light"
          }
        },
        {
          "output_type": "stream",
          "name": "stdout",
          "text": [
            "Real= 0 Predicted= 0.00042262468443661554\n"
          ]
        },
        {
          "output_type": "display_data",
          "data": {
            "text/plain": [
              "<Figure size 432x288 with 1 Axes>"
            ],
            "image/png": "[encoded data removed]"
          },
          "metadata": {
            "needs_background": "light"
          }
        },
        {
          "output_type": "stream",
          "name": "stdout",
          "text": [
            "Real= 1 Predicted= 0.9996933731538837\n"
          ]
        }
      ]
    }
  ]
}